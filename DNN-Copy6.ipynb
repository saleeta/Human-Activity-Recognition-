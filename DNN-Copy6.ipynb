{
 "cells": [
  {
   "cell_type": "code",
   "execution_count": 1,
   "metadata": {},
   "outputs": [
    {
     "name": "stdout",
     "output_type": "stream",
     "text": [
      "(299933, 11)\n"
     ]
    }
   ],
   "source": [
    "import pandas as pd \n",
    "from pandas import read_csv\n",
    "\n",
    "def load_file(filepath):\n",
    "\t#dataframe = pd.read_excel(filepath, header=0, delimiter=',')\n",
    "\tdataframe = read_csv(filepath, header=0, delimiter=',')\n",
    "\treturn dataframe\n",
    " \n",
    "df = load_file('leg/merged/Wrist/all2.csv')#'HAR/Pocket2.xlsx')#Activity_Recognition_DataSet/Pocket.xlsx')\n",
    "df2=load_file('leg/merged/Wrist/all2.csv')\n",
    "data=df\n",
    "#data = load_file('HAR/5.csv')\n",
    "print(data.shape)"
   ]
  },
  {
   "cell_type": "code",
   "execution_count": 2,
   "metadata": {},
   "outputs": [],
   "source": [
    " \n",
    "from scipy.spatial.distance import cosine\n",
    "import numpy as np\n",
    "from scipy.sparse import csr_matrix\n",
    "#from __future__ import division\n",
    "import matplotlib.pyplot as plt\n",
    "%matplotlib inline \n"
   ]
  },
  {
   "cell_type": "code",
   "execution_count": 3,
   "metadata": {},
   "outputs": [
    {
     "data": {
      "text/html": [
       "<div>\n",
       "<style scoped>\n",
       "    .dataframe tbody tr th:only-of-type {\n",
       "        vertical-align: middle;\n",
       "    }\n",
       "\n",
       "    .dataframe tbody tr th {\n",
       "        vertical-align: top;\n",
       "    }\n",
       "\n",
       "    .dataframe thead th {\n",
       "        text-align: right;\n",
       "    }\n",
       "</style>\n",
       "<table border=\"1\" class=\"dataframe\">\n",
       "  <thead>\n",
       "    <tr style=\"text-align: right;\">\n",
       "      <th></th>\n",
       "      <th>TimeStamp</th>\n",
       "      <th>Ax</th>\n",
       "      <th>Ay</th>\n",
       "      <th>Az</th>\n",
       "      <th>Gx</th>\n",
       "      <th>Gy</th>\n",
       "      <th>Gz</th>\n",
       "      <th>Mx</th>\n",
       "      <th>My</th>\n",
       "      <th>Mz</th>\n",
       "      <th>Activity</th>\n",
       "    </tr>\n",
       "  </thead>\n",
       "  <tbody>\n",
       "    <tr>\n",
       "      <th>0</th>\n",
       "      <td>1.550000e+12</td>\n",
       "      <td>-4.414908</td>\n",
       "      <td>-1.470638</td>\n",
       "      <td>8.139688</td>\n",
       "      <td>-0.553937</td>\n",
       "      <td>0.194943</td>\n",
       "      <td>0.506001</td>\n",
       "      <td>20.10</td>\n",
       "      <td>-28.92</td>\n",
       "      <td>-14.70</td>\n",
       "      <td>3</td>\n",
       "    </tr>\n",
       "    <tr>\n",
       "      <th>1</th>\n",
       "      <td>1.550000e+12</td>\n",
       "      <td>-4.400543</td>\n",
       "      <td>-0.824204</td>\n",
       "      <td>7.292140</td>\n",
       "      <td>-0.387756</td>\n",
       "      <td>0.034088</td>\n",
       "      <td>0.461260</td>\n",
       "      <td>20.22</td>\n",
       "      <td>-28.50</td>\n",
       "      <td>-14.70</td>\n",
       "      <td>3</td>\n",
       "    </tr>\n",
       "    <tr>\n",
       "      <th>2</th>\n",
       "      <td>1.550000e+12</td>\n",
       "      <td>-4.209007</td>\n",
       "      <td>-0.718859</td>\n",
       "      <td>7.407062</td>\n",
       "      <td>-0.469782</td>\n",
       "      <td>-0.055394</td>\n",
       "      <td>0.415453</td>\n",
       "      <td>20.22</td>\n",
       "      <td>-28.08</td>\n",
       "      <td>-14.76</td>\n",
       "      <td>3</td>\n",
       "    </tr>\n",
       "    <tr>\n",
       "      <th>3</th>\n",
       "      <td>1.550000e+12</td>\n",
       "      <td>-4.022259</td>\n",
       "      <td>-0.910395</td>\n",
       "      <td>8.101380</td>\n",
       "      <td>-0.647681</td>\n",
       "      <td>-0.080960</td>\n",
       "      <td>0.383495</td>\n",
       "      <td>20.22</td>\n",
       "      <td>-27.72</td>\n",
       "      <td>-14.82</td>\n",
       "      <td>3</td>\n",
       "    </tr>\n",
       "    <tr>\n",
       "      <th>4</th>\n",
       "      <td>1.550000e+12</td>\n",
       "      <td>-3.892972</td>\n",
       "      <td>-0.685340</td>\n",
       "      <td>8.551490</td>\n",
       "      <td>-0.852212</td>\n",
       "      <td>-0.108657</td>\n",
       "      <td>0.352603</td>\n",
       "      <td>20.22</td>\n",
       "      <td>-27.42</td>\n",
       "      <td>-14.94</td>\n",
       "      <td>3</td>\n",
       "    </tr>\n",
       "  </tbody>\n",
       "</table>\n",
       "</div>"
      ],
      "text/plain": [
       "      TimeStamp        Ax        Ay        Az        Gx        Gy        Gz  \\\n",
       "0  1.550000e+12 -4.414908 -1.470638  8.139688 -0.553937  0.194943  0.506001   \n",
       "1  1.550000e+12 -4.400543 -0.824204  7.292140 -0.387756  0.034088  0.461260   \n",
       "2  1.550000e+12 -4.209007 -0.718859  7.407062 -0.469782 -0.055394  0.415453   \n",
       "3  1.550000e+12 -4.022259 -0.910395  8.101380 -0.647681 -0.080960  0.383495   \n",
       "4  1.550000e+12 -3.892972 -0.685340  8.551490 -0.852212 -0.108657  0.352603   \n",
       "\n",
       "      Mx     My     Mz  Activity  \n",
       "0  20.10 -28.92 -14.70         3  \n",
       "1  20.22 -28.50 -14.70         3  \n",
       "2  20.22 -28.08 -14.76         3  \n",
       "3  20.22 -27.72 -14.82         3  \n",
       "4  20.22 -27.42 -14.94         3  "
      ]
     },
     "execution_count": 3,
     "metadata": {},
     "output_type": "execute_result"
    }
   ],
   "source": [
    "\n",
    "mylist = [\"Ax\", \"Ay\", \"Az\",\"Gx\", \"Gy\", \"Gz\", \"Mx\", \"My\",\"Mz\"]\n",
    "df.head()"
   ]
  },
  {
   "cell_type": "code",
   "execution_count": 4,
   "metadata": {},
   "outputs": [
    {
     "data": {
      "text/html": [
       "<div>\n",
       "<style scoped>\n",
       "    .dataframe tbody tr th:only-of-type {\n",
       "        vertical-align: middle;\n",
       "    }\n",
       "\n",
       "    .dataframe tbody tr th {\n",
       "        vertical-align: top;\n",
       "    }\n",
       "\n",
       "    .dataframe thead th {\n",
       "        text-align: right;\n",
       "    }\n",
       "</style>\n",
       "<table border=\"1\" class=\"dataframe\">\n",
       "  <thead>\n",
       "    <tr style=\"text-align: right;\">\n",
       "      <th></th>\n",
       "      <th>TimeStamp</th>\n",
       "      <th>Ax</th>\n",
       "      <th>Ay</th>\n",
       "      <th>Az</th>\n",
       "      <th>Gx</th>\n",
       "      <th>Gy</th>\n",
       "      <th>Gz</th>\n",
       "      <th>Mx</th>\n",
       "      <th>My</th>\n",
       "      <th>Mz</th>\n",
       "      <th>Activity</th>\n",
       "    </tr>\n",
       "  </thead>\n",
       "  <tbody>\n",
       "    <tr>\n",
       "      <th>0</th>\n",
       "      <td>1.550000e+12</td>\n",
       "      <td>NaN</td>\n",
       "      <td>NaN</td>\n",
       "      <td>NaN</td>\n",
       "      <td>NaN</td>\n",
       "      <td>NaN</td>\n",
       "      <td>NaN</td>\n",
       "      <td>NaN</td>\n",
       "      <td>NaN</td>\n",
       "      <td>NaN</td>\n",
       "      <td>3</td>\n",
       "    </tr>\n",
       "    <tr>\n",
       "      <th>1</th>\n",
       "      <td>1.550000e+12</td>\n",
       "      <td>NaN</td>\n",
       "      <td>NaN</td>\n",
       "      <td>NaN</td>\n",
       "      <td>NaN</td>\n",
       "      <td>NaN</td>\n",
       "      <td>NaN</td>\n",
       "      <td>NaN</td>\n",
       "      <td>NaN</td>\n",
       "      <td>NaN</td>\n",
       "      <td>3</td>\n",
       "    </tr>\n",
       "    <tr>\n",
       "      <th>2</th>\n",
       "      <td>1.550000e+12</td>\n",
       "      <td>NaN</td>\n",
       "      <td>NaN</td>\n",
       "      <td>NaN</td>\n",
       "      <td>NaN</td>\n",
       "      <td>NaN</td>\n",
       "      <td>NaN</td>\n",
       "      <td>NaN</td>\n",
       "      <td>NaN</td>\n",
       "      <td>NaN</td>\n",
       "      <td>3</td>\n",
       "    </tr>\n",
       "    <tr>\n",
       "      <th>3</th>\n",
       "      <td>1.550000e+12</td>\n",
       "      <td>NaN</td>\n",
       "      <td>NaN</td>\n",
       "      <td>NaN</td>\n",
       "      <td>NaN</td>\n",
       "      <td>NaN</td>\n",
       "      <td>NaN</td>\n",
       "      <td>NaN</td>\n",
       "      <td>NaN</td>\n",
       "      <td>NaN</td>\n",
       "      <td>3</td>\n",
       "    </tr>\n",
       "    <tr>\n",
       "      <th>4</th>\n",
       "      <td>1.550000e+12</td>\n",
       "      <td>NaN</td>\n",
       "      <td>NaN</td>\n",
       "      <td>NaN</td>\n",
       "      <td>NaN</td>\n",
       "      <td>NaN</td>\n",
       "      <td>NaN</td>\n",
       "      <td>NaN</td>\n",
       "      <td>NaN</td>\n",
       "      <td>NaN</td>\n",
       "      <td>3</td>\n",
       "    </tr>\n",
       "  </tbody>\n",
       "</table>\n",
       "</div>"
      ],
      "text/plain": [
       "      TimeStamp  Ax  Ay  Az  Gx  Gy  Gz  Mx  My  Mz  Activity\n",
       "0  1.550000e+12 NaN NaN NaN NaN NaN NaN NaN NaN NaN         3\n",
       "1  1.550000e+12 NaN NaN NaN NaN NaN NaN NaN NaN NaN         3\n",
       "2  1.550000e+12 NaN NaN NaN NaN NaN NaN NaN NaN NaN         3\n",
       "3  1.550000e+12 NaN NaN NaN NaN NaN NaN NaN NaN NaN         3\n",
       "4  1.550000e+12 NaN NaN NaN NaN NaN NaN NaN NaN NaN         3"
      ]
     },
     "execution_count": 4,
     "metadata": {},
     "output_type": "execute_result"
    }
   ],
   "source": [
    "\n",
    "for i in mylist:\n",
    "    df[i]=df[i].rolling(20).mean()\n",
    "df.head()"
   ]
  },
  {
   "cell_type": "code",
   "execution_count": 5,
   "metadata": {},
   "outputs": [],
   "source": [
    "df22=df.dropna(inplace=True)\n",
    "df22"
   ]
  },
  {
   "cell_type": "code",
   "execution_count": 6,
   "metadata": {},
   "outputs": [
    {
     "name": "stderr",
     "output_type": "stream",
     "text": [
      "Using TensorFlow backend.\n"
     ]
    }
   ],
   "source": [
    "# Importing the Keras libraries and packages\n",
    "import keras\n",
    "from keras.models import Sequential\n",
    "from keras.layers import Dense"
   ]
  },
  {
   "cell_type": "code",
   "execution_count": 7,
   "metadata": {},
   "outputs": [],
   "source": [
    "def timeSeriesToSupervised(df,var_list,window_size=1, dropnan=True):\n",
    "    for var in var_list:\n",
    "        for idx in range(window_size,-window_size,-1):\n",
    "            var_name = var + '(t+' + str(idx) + ')'    \n",
    "            df[var_name] = df[var].shift(-idx)\n",
    "\n",
    "    if dropnan:\n",
    "        df.dropna(inplace=True)\n",
    "    return df"
   ]
  },
  {
   "cell_type": "code",
   "execution_count": 8,
   "metadata": {},
   "outputs": [],
   "source": [
    "df2= timeSeriesToSupervised(df,mylist,30,True)\n"
   ]
  },
  {
   "cell_type": "code",
   "execution_count": 9,
   "metadata": {},
   "outputs": [
    {
     "data": {
      "text/html": [
       "<div>\n",
       "<style scoped>\n",
       "    .dataframe tbody tr th:only-of-type {\n",
       "        vertical-align: middle;\n",
       "    }\n",
       "\n",
       "    .dataframe tbody tr th {\n",
       "        vertical-align: top;\n",
       "    }\n",
       "\n",
       "    .dataframe thead th {\n",
       "        text-align: right;\n",
       "    }\n",
       "</style>\n",
       "<table border=\"1\" class=\"dataframe\">\n",
       "  <thead>\n",
       "    <tr style=\"text-align: right;\">\n",
       "      <th></th>\n",
       "      <th>TimeStamp</th>\n",
       "      <th>Ax</th>\n",
       "      <th>Ay</th>\n",
       "      <th>Az</th>\n",
       "      <th>Gx</th>\n",
       "      <th>Gy</th>\n",
       "      <th>Gz</th>\n",
       "      <th>Mx</th>\n",
       "      <th>My</th>\n",
       "      <th>Mz</th>\n",
       "      <th>...</th>\n",
       "      <th>Mz(t+-20)</th>\n",
       "      <th>Mz(t+-21)</th>\n",
       "      <th>Mz(t+-22)</th>\n",
       "      <th>Mz(t+-23)</th>\n",
       "      <th>Mz(t+-24)</th>\n",
       "      <th>Mz(t+-25)</th>\n",
       "      <th>Mz(t+-26)</th>\n",
       "      <th>Mz(t+-27)</th>\n",
       "      <th>Mz(t+-28)</th>\n",
       "      <th>Mz(t+-29)</th>\n",
       "    </tr>\n",
       "  </thead>\n",
       "  <tbody>\n",
       "    <tr>\n",
       "      <th>268468</th>\n",
       "      <td>1.550000e+12</td>\n",
       "      <td>-1.005325</td>\n",
       "      <td>-4.031237</td>\n",
       "      <td>8.570165</td>\n",
       "      <td>0.008682</td>\n",
       "      <td>-0.004101</td>\n",
       "      <td>-0.026738</td>\n",
       "      <td>-25.848</td>\n",
       "      <td>35.688</td>\n",
       "      <td>-36.768</td>\n",
       "      <td>...</td>\n",
       "      <td>-36.639</td>\n",
       "      <td>-36.618</td>\n",
       "      <td>-36.597</td>\n",
       "      <td>-36.576</td>\n",
       "      <td>-36.558</td>\n",
       "      <td>-36.540</td>\n",
       "      <td>-36.525</td>\n",
       "      <td>-36.513</td>\n",
       "      <td>-36.501</td>\n",
       "      <td>-36.492</td>\n",
       "    </tr>\n",
       "    <tr>\n",
       "      <th>192148</th>\n",
       "      <td>1.550000e+12</td>\n",
       "      <td>-6.220405</td>\n",
       "      <td>-7.646572</td>\n",
       "      <td>0.482791</td>\n",
       "      <td>0.043889</td>\n",
       "      <td>-0.261256</td>\n",
       "      <td>0.400220</td>\n",
       "      <td>31.863</td>\n",
       "      <td>2.775</td>\n",
       "      <td>14.364</td>\n",
       "      <td>...</td>\n",
       "      <td>16.623</td>\n",
       "      <td>16.731</td>\n",
       "      <td>16.845</td>\n",
       "      <td>16.962</td>\n",
       "      <td>17.082</td>\n",
       "      <td>17.208</td>\n",
       "      <td>17.331</td>\n",
       "      <td>17.451</td>\n",
       "      <td>17.562</td>\n",
       "      <td>17.664</td>\n",
       "    </tr>\n",
       "    <tr>\n",
       "      <th>224920</th>\n",
       "      <td>1.550000e+12</td>\n",
       "      <td>4.757518</td>\n",
       "      <td>-3.104681</td>\n",
       "      <td>7.539222</td>\n",
       "      <td>0.100401</td>\n",
       "      <td>-0.093477</td>\n",
       "      <td>-0.039841</td>\n",
       "      <td>-27.177</td>\n",
       "      <td>49.179</td>\n",
       "      <td>-12.246</td>\n",
       "      <td>...</td>\n",
       "      <td>-8.853</td>\n",
       "      <td>-8.748</td>\n",
       "      <td>-8.661</td>\n",
       "      <td>-8.595</td>\n",
       "      <td>-8.544</td>\n",
       "      <td>-8.511</td>\n",
       "      <td>-8.490</td>\n",
       "      <td>-8.484</td>\n",
       "      <td>-8.490</td>\n",
       "      <td>-8.502</td>\n",
       "    </tr>\n",
       "    <tr>\n",
       "      <th>177831</th>\n",
       "      <td>1.550000e+12</td>\n",
       "      <td>7.067444</td>\n",
       "      <td>-4.913261</td>\n",
       "      <td>4.463630</td>\n",
       "      <td>-0.007989</td>\n",
       "      <td>-0.000533</td>\n",
       "      <td>-0.019441</td>\n",
       "      <td>-11.295</td>\n",
       "      <td>-23.112</td>\n",
       "      <td>-19.305</td>\n",
       "      <td>...</td>\n",
       "      <td>-18.684</td>\n",
       "      <td>-18.681</td>\n",
       "      <td>-18.681</td>\n",
       "      <td>-18.684</td>\n",
       "      <td>-18.690</td>\n",
       "      <td>-18.693</td>\n",
       "      <td>-18.699</td>\n",
       "      <td>-18.708</td>\n",
       "      <td>-18.720</td>\n",
       "      <td>-18.732</td>\n",
       "    </tr>\n",
       "    <tr>\n",
       "      <th>36856</th>\n",
       "      <td>1.550000e+12</td>\n",
       "      <td>-5.372589</td>\n",
       "      <td>-7.541825</td>\n",
       "      <td>2.698205</td>\n",
       "      <td>-0.008203</td>\n",
       "      <td>-0.029295</td>\n",
       "      <td>-0.081333</td>\n",
       "      <td>53.130</td>\n",
       "      <td>14.775</td>\n",
       "      <td>-9.267</td>\n",
       "      <td>...</td>\n",
       "      <td>-9.030</td>\n",
       "      <td>-9.072</td>\n",
       "      <td>-9.117</td>\n",
       "      <td>-9.168</td>\n",
       "      <td>-9.222</td>\n",
       "      <td>-9.282</td>\n",
       "      <td>-9.342</td>\n",
       "      <td>-9.405</td>\n",
       "      <td>-9.465</td>\n",
       "      <td>-9.522</td>\n",
       "    </tr>\n",
       "  </tbody>\n",
       "</table>\n",
       "<p>5 rows × 551 columns</p>\n",
       "</div>"
      ],
      "text/plain": [
       "           TimeStamp        Ax        Ay        Az        Gx        Gy  \\\n",
       "268468  1.550000e+12 -1.005325 -4.031237  8.570165  0.008682 -0.004101   \n",
       "192148  1.550000e+12 -6.220405 -7.646572  0.482791  0.043889 -0.261256   \n",
       "224920  1.550000e+12  4.757518 -3.104681  7.539222  0.100401 -0.093477   \n",
       "177831  1.550000e+12  7.067444 -4.913261  4.463630 -0.007989 -0.000533   \n",
       "36856   1.550000e+12 -5.372589 -7.541825  2.698205 -0.008203 -0.029295   \n",
       "\n",
       "              Gz      Mx      My      Mz    ...      Mz(t+-20)  Mz(t+-21)  \\\n",
       "268468 -0.026738 -25.848  35.688 -36.768    ...        -36.639    -36.618   \n",
       "192148  0.400220  31.863   2.775  14.364    ...         16.623     16.731   \n",
       "224920 -0.039841 -27.177  49.179 -12.246    ...         -8.853     -8.748   \n",
       "177831 -0.019441 -11.295 -23.112 -19.305    ...        -18.684    -18.681   \n",
       "36856  -0.081333  53.130  14.775  -9.267    ...         -9.030     -9.072   \n",
       "\n",
       "        Mz(t+-22)  Mz(t+-23)  Mz(t+-24)  Mz(t+-25)  Mz(t+-26)  Mz(t+-27)  \\\n",
       "268468    -36.597    -36.576    -36.558    -36.540    -36.525    -36.513   \n",
       "192148     16.845     16.962     17.082     17.208     17.331     17.451   \n",
       "224920     -8.661     -8.595     -8.544     -8.511     -8.490     -8.484   \n",
       "177831    -18.681    -18.684    -18.690    -18.693    -18.699    -18.708   \n",
       "36856      -9.117     -9.168     -9.222     -9.282     -9.342     -9.405   \n",
       "\n",
       "        Mz(t+-28)  Mz(t+-29)  \n",
       "268468    -36.501    -36.492  \n",
       "192148     17.562     17.664  \n",
       "224920     -8.490     -8.502  \n",
       "177831    -18.720    -18.732  \n",
       "36856      -9.465     -9.522  \n",
       "\n",
       "[5 rows x 551 columns]"
      ]
     },
     "execution_count": 9,
     "metadata": {},
     "output_type": "execute_result"
    }
   ],
   "source": [
    "df2=df2.sample(frac=1)\n",
    "df2.head()"
   ]
  },
  {
   "cell_type": "code",
   "execution_count": 16,
   "metadata": {},
   "outputs": [],
   "source": [
    "\n",
    "#X = df2.drop('Activity_Label', axis=1)  \n",
    "X = df2.drop('TimeStamp', axis=1)  \n",
    "y = df2['Activity']  "
   ]
  },
  {
   "cell_type": "code",
   "execution_count": 17,
   "metadata": {},
   "outputs": [],
   "source": [
    "from sklearn.model_selection import train_test_split  \n",
    "X_train, X_test, y_train, y_test = train_test_split(X, y, test_size=0.33) "
   ]
  },
  {
   "cell_type": "code",
   "execution_count": 18,
   "metadata": {},
   "outputs": [],
   "source": [
    "#check image shape\n",
    "X_test.shape\n",
    "X2=X_train\n",
    "X_test=X_test.drop('Activity', axis=1) \n",
    "X_train=X_train.drop('Activity', axis=1)  "
   ]
  },
  {
   "cell_type": "code",
   "execution_count": 19,
   "metadata": {},
   "outputs": [],
   "source": [
    "#Initializing Neural Network\n",
    "classifier = Sequential()"
   ]
  },
  {
   "cell_type": "code",
   "execution_count": 20,
   "metadata": {},
   "outputs": [],
   "source": [
    "from keras.utils import to_categorical\n",
    "y_binary = to_categorical(y_train)"
   ]
  },
  {
   "cell_type": "code",
   "execution_count": 21,
   "metadata": {},
   "outputs": [
    {
     "data": {
      "text/plain": [
       "(200902, 549)"
      ]
     },
     "execution_count": 21,
     "metadata": {},
     "output_type": "execute_result"
    }
   ],
   "source": [
    "X_train.shape"
   ]
  },
  {
   "cell_type": "code",
   "execution_count": 22,
   "metadata": {},
   "outputs": [
    {
     "name": "stdout",
     "output_type": "stream",
     "text": [
      "WARNING:tensorflow:From C:\\Users\\lenovo\\Anaconda3\\lib\\site-packages\\tensorflow\\python\\framework\\op_def_library.py:263: colocate_with (from tensorflow.python.framework.ops) is deprecated and will be removed in a future version.\n",
      "Instructions for updating:\n",
      "Colocations handled automatically by placer.\n"
     ]
    },
    {
     "name": "stderr",
     "output_type": "stream",
     "text": [
      "C:\\Users\\lenovo\\Anaconda3\\lib\\site-packages\\ipykernel_launcher.py:10: UserWarning: Update your `Dense` call to the Keras 2 API: `Dense(activation=\"sigmoid\", units=6, kernel_initializer=\"uniform\")`\n",
      "  # Remove the CWD from sys.path while we load stuff.\n"
     ]
    }
   ],
   "source": [
    "# Adding the input layer and the first hidden layer\n",
    "classifier.add(Dense(activation=\"softmax\", input_dim=549, units=600, kernel_initializer=\"uniform\"))\n",
    "# Adding the second hidden layer\n",
    "classifier.add(Dense(activation=\"relu\", units=600, kernel_initializer=\"uniform\"))\n",
    "# Adding the second hidden layer\n",
    "classifier.add(Dense(activation=\"relu\", units=600, kernel_initializer=\"uniform\"))\n",
    "# Adding the second hidden layer\n",
    "classifier.add(Dense(activation=\"relu\", units=600, kernel_initializer=\"uniform\"))\n",
    "# Adding the output layer\n",
    "classifier.add(Dense(output_dim = 6, init = 'uniform', activation = 'sigmoid'))"
   ]
  },
  {
   "cell_type": "code",
   "execution_count": 23,
   "metadata": {},
   "outputs": [],
   "source": [
    "# Compiling Neural Network\n",
    "classifier.compile(optimizer = 'adam', loss = 'categorical_crossentropy', metrics = ['accuracy'])"
   ]
  },
  {
   "cell_type": "code",
   "execution_count": 24,
   "metadata": {},
   "outputs": [
    {
     "name": "stdout",
     "output_type": "stream",
     "text": [
      "WARNING:tensorflow:From C:\\Users\\lenovo\\Anaconda3\\lib\\site-packages\\tensorflow\\python\\ops\\math_ops.py:3066: to_int32 (from tensorflow.python.ops.math_ops) is deprecated and will be removed in a future version.\n",
      "Instructions for updating:\n",
      "Use tf.cast instead.\n",
      "Epoch 1/5\n",
      "200902/200902 [==============================] - 76s 379us/step - loss: 0.3719 - acc: 0.8725\n",
      "Epoch 2/5\n",
      "200902/200902 [==============================] - 64s 318us/step - loss: 0.2597 - acc: 0.9172\n",
      "Epoch 3/5\n",
      "200902/200902 [==============================] - 73s 362us/step - loss: 0.2338 - acc: 0.9252\n",
      "Epoch 4/5\n",
      "200902/200902 [==============================] - 76s 380us/step - loss: 0.2296 - acc: 0.9257\n",
      "Epoch 5/5\n",
      "200902/200902 [==============================] - 78s 387us/step - loss: 0.2177 - acc: 0.9307\n"
     ]
    },
    {
     "data": {
      "text/plain": [
       "<keras.callbacks.History at 0x54f6a90>"
      ]
     },
     "execution_count": 24,
     "metadata": {},
     "output_type": "execute_result"
    }
   ],
   "source": [
    "# Fitting our model \n",
    "classifier.fit(X_train, y_binary, batch_size = 200, epochs = 5)"
   ]
  },
  {
   "cell_type": "code",
   "execution_count": 25,
   "metadata": {},
   "outputs": [],
   "source": [
    "# Predicting the Test set results\n",
    "y_pred = classifier.predict(X_test)"
   ]
  },
  {
   "cell_type": "code",
   "execution_count": 26,
   "metadata": {},
   "outputs": [
    {
     "data": {
      "text/plain": [
       "array([[0., 0., 0., 0., 0., 1.],\n",
       "       [0., 1., 0., 0., 0., 0.],\n",
       "       [0., 0., 0., 0., 0., 1.],\n",
       "       ...,\n",
       "       [0., 0., 0., 0., 0., 1.],\n",
       "       [0., 0., 0., 0., 0., 1.],\n",
       "       [0., 0., 0., 0., 0., 1.]], dtype=float32)"
      ]
     },
     "execution_count": 26,
     "metadata": {},
     "output_type": "execute_result"
    }
   ],
   "source": [
    "yy=to_categorical(y_test)\n",
    "yy"
   ]
  },
  {
   "cell_type": "code",
   "execution_count": 31,
   "metadata": {},
   "outputs": [
    {
     "data": {
      "text/plain": [
       "array([[0., 0., 0., 1., 0.],\n",
       "       [0., 0., 0., 0., 1.],\n",
       "       [0., 0., 1., 0., 0.],\n",
       "       ...,\n",
       "       [0., 0., 1., 0., 0.],\n",
       "       [0., 1., 0., 0., 0.],\n",
       "       [0., 0., 1., 0., 0.]], dtype=float32)"
      ]
     },
     "execution_count": 31,
     "metadata": {},
     "output_type": "execute_result"
    }
   ],
   "source": [
    "yy=to_categorical(y_test)\n",
    "yy"
   ]
  },
  {
   "cell_type": "code",
   "execution_count": 27,
   "metadata": {},
   "outputs": [
    {
     "data": {
      "text/plain": [
       "array([[False, False, False, False, False,  True],\n",
       "       [False,  True, False, False, False, False],\n",
       "       [False, False, False, False, False,  True],\n",
       "       ...,\n",
       "       [False, False, False, False, False,  True],\n",
       "       [False, False, False, False, False,  True],\n",
       "       [False, False, False, False, False,  True]])"
      ]
     },
     "execution_count": 27,
     "metadata": {},
     "output_type": "execute_result"
    }
   ],
   "source": [
    "yyy = (yy > 0.5)\n",
    "yyy"
   ]
  },
  {
   "cell_type": "code",
   "execution_count": 33,
   "metadata": {},
   "outputs": [
    {
     "name": "stdout",
     "output_type": "stream",
     "text": [
      "(80016, 5)\n",
      "(80016, 5)\n"
     ]
    }
   ],
   "source": [
    "print(yyy.shape)\n",
    "print(y_pred.shape)"
   ]
  },
  {
   "cell_type": "code",
   "execution_count": 28,
   "metadata": {},
   "outputs": [
    {
     "data": {
      "text/plain": [
       "array([[False, False, False, False, False,  True],\n",
       "       [False,  True, False, False, False, False],\n",
       "       [False, False, False, False, False,  True],\n",
       "       ...,\n",
       "       [False, False, False, False, False,  True],\n",
       "       [False, False, False, False, False,  True],\n",
       "       [False, False, False, False, False,  True]])"
      ]
     },
     "execution_count": 28,
     "metadata": {},
     "output_type": "execute_result"
    }
   ],
   "source": [
    "y_pred = (y_pred > 0.5)\n",
    "y_pred"
   ]
  },
  {
   "cell_type": "code",
   "execution_count": 29,
   "metadata": {},
   "outputs": [
    {
     "data": {
      "text/plain": [
       "array([[    0,     0,     0,     0,     0,     0],\n",
       "       [    0, 19727,     2,   612,     0,     0],\n",
       "       [    7,    37, 23460,  3473,    71,   243],\n",
       "       [    6,    73,  2244, 16963,    28,   606],\n",
       "       [    0,     1,    30,     0, 12448,     0],\n",
       "       [    0,     0,     3,     9,     0, 18910]], dtype=int64)"
      ]
     },
     "execution_count": 29,
     "metadata": {},
     "output_type": "execute_result"
    }
   ],
   "source": [
    "from sklearn.metrics import confusion_matrix\n",
    "cm = confusion_matrix(\n",
    "    yyy.argmax(axis=1), y_pred.argmax(axis=1))#confusion_matrix(yyy, y_pred)\n",
    "cm"
   ]
  },
  {
   "cell_type": "code",
   "execution_count": 35,
   "metadata": {},
   "outputs": [
    {
     "data": {
      "text/plain": [
       "array([[    0,     0,     0,     0,     0],\n",
       "       [    3, 19790,     7,   322,     0],\n",
       "       [   18,    23, 22307,  4861,   519],\n",
       "       [    0,   509,   289, 18879,    57],\n",
       "       [    0,     5,     0,     0, 12427]], dtype=int64)"
      ]
     },
     "execution_count": 35,
     "metadata": {},
     "output_type": "execute_result"
    }
   ],
   "source": [
    "from sklearn.metrics import confusion_matrix\n",
    "cm = confusion_matrix(\n",
    "    yyy.argmax(axis=1), y_pred.argmax(axis=1))#confusion_matrix(yyy, y_pred)\n",
    "cm"
   ]
  },
  {
   "cell_type": "code",
   "execution_count": 21,
   "metadata": {},
   "outputs": [
    {
     "data": {
      "text/plain": [
       "array([[    0,     0,     0,     0,     0],\n",
       "       [    3, 20094,    13,    11,     0],\n",
       "       [   20,   144, 24988,  2289,     0],\n",
       "       [    0,   688,  1992, 17255,    21],\n",
       "       [  222,    35,     9,     0, 12245]], dtype=int64)"
      ]
     },
     "execution_count": 21,
     "metadata": {},
     "output_type": "execute_result"
    }
   ],
   "source": [
    "from sklearn.metrics import confusion_matrix\n",
    "cm = confusion_matrix(\n",
    "    yyy.argmax(axis=1), y_pred.argmax(axis=1))#confusion_matrix(yyy, y_pred)\n",
    "cm"
   ]
  },
  {
   "cell_type": "code",
   "execution_count": 81,
   "metadata": {},
   "outputs": [
    {
     "data": {
      "text/plain": [
       "array([[    0,     0,     0,     0,     0],\n",
       "       [    0, 20260,     0,    23,     0],\n",
       "       [   11,    67, 24326,  2847,    47],\n",
       "       [    0,    71,   860, 19059,     3],\n",
       "       [    0,     4,     0,     0, 12431]], dtype=int64)"
      ]
     },
     "execution_count": 81,
     "metadata": {},
     "output_type": "execute_result"
    }
   ],
   "source": [
    "from sklearn.metrics import confusion_matrix\n",
    "cm = confusion_matrix(\n",
    "    yyy.argmax(axis=1), y_pred.argmax(axis=1))#confusion_matrix(yyy, y_pred)\n",
    "cm"
   ]
  },
  {
   "cell_type": "code",
   "execution_count": 30,
   "metadata": {},
   "outputs": [
    {
     "name": "stdout",
     "output_type": "stream",
     "text": [
      "              precision    recall  f1-score   support\n",
      "\n",
      "           0       0.00      0.00      0.00         0\n",
      "           1       0.99      0.97      0.98     20341\n",
      "           2       0.91      0.86      0.88     27291\n",
      "           3       0.81      0.85      0.83     19920\n",
      "           4       0.99      1.00      0.99     12479\n",
      "           5       0.96      1.00      0.98     18922\n",
      "\n",
      "   micro avg       0.92      0.92      0.92     98953\n",
      "   macro avg       0.78      0.78      0.78     98953\n",
      "weighted avg       0.93      0.92      0.92     98953\n",
      "\n"
     ]
    },
    {
     "name": "stderr",
     "output_type": "stream",
     "text": [
      "C:\\Users\\lenovo\\Anaconda3\\lib\\site-packages\\sklearn\\metrics\\classification.py:1145: UndefinedMetricWarning: Recall and F-score are ill-defined and being set to 0.0 in labels with no true samples.\n",
      "  'recall', 'true', average, warn_for)\n"
     ]
    }
   ],
   "source": [
    "from sklearn.metrics import classification_report, confusion_matrix  \n",
    "print(classification_report(yyy.argmax(axis=1), y_pred.argmax(axis=1)) )"
   ]
  },
  {
   "cell_type": "code",
   "execution_count": 97,
   "metadata": {},
   "outputs": [
    {
     "name": "stdout",
     "output_type": "stream",
     "text": [
      "              precision    recall  f1-score   support\n",
      "\n",
      "           0       0.00      0.00      0.00         0\n",
      "           1       1.00      1.00      1.00     20276\n",
      "           2       0.94      0.92      0.93     27325\n",
      "           3       0.89      0.92      0.91     19964\n",
      "           4       1.00      1.00      1.00     12458\n",
      "\n",
      "   micro avg       0.95      0.95      0.95     80023\n",
      "   macro avg       0.77      0.77      0.77     80023\n",
      "weighted avg       0.95      0.95      0.95     80023\n",
      "\n"
     ]
    }
   ],
   "source": [
    "from sklearn.metrics import classification_report, confusion_matrix  \n",
    "print(classification_report(yyy.argmax(axis=1), y_pred.argmax(axis=1)) )"
   ]
  },
  {
   "cell_type": "code",
   "execution_count": 36,
   "metadata": {},
   "outputs": [
    {
     "name": "stdout",
     "output_type": "stream",
     "text": [
      "              precision    recall  f1-score   support\n",
      "\n",
      "           0       0.00      0.00      0.00         0\n",
      "           1       0.97      0.98      0.98     20122\n",
      "           2       0.99      0.80      0.89     27728\n",
      "           3       0.78      0.96      0.86     19734\n",
      "           4       0.96      1.00      0.98     12432\n",
      "\n",
      "   micro avg       0.92      0.92      0.92     80016\n",
      "   macro avg       0.74      0.75      0.74     80016\n",
      "weighted avg       0.93      0.92      0.92     80016\n",
      "\n"
     ]
    },
    {
     "name": "stderr",
     "output_type": "stream",
     "text": [
      "C:\\Users\\lenovo\\Anaconda3\\lib\\site-packages\\sklearn\\metrics\\classification.py:1145: UndefinedMetricWarning: Recall and F-score are ill-defined and being set to 0.0 in labels with no true samples.\n",
      "  'recall', 'true', average, warn_for)\n"
     ]
    }
   ],
   "source": [
    "from sklearn.metrics import classification_report, confusion_matrix  \n",
    "print(classification_report(yyy.argmax(axis=1), y_pred.argmax(axis=1)) )"
   ]
  },
  {
   "cell_type": "code",
   "execution_count": 69,
   "metadata": {},
   "outputs": [
    {
     "name": "stdout",
     "output_type": "stream",
     "text": [
      "              precision    recall  f1-score   support\n",
      "\n",
      "           0       0.00      0.00      0.00         0\n",
      "           1       1.00      0.99      0.99     20144\n",
      "           2       0.95      0.87      0.91     27475\n",
      "           3       0.86      0.93      0.89     19909\n",
      "           4       0.96      1.00      0.98     12498\n",
      "\n",
      "   micro avg       0.94      0.94      0.94     80026\n",
      "   macro avg       0.75      0.76      0.75     80026\n",
      "weighted avg       0.94      0.94      0.94     80026\n",
      "\n"
     ]
    },
    {
     "name": "stderr",
     "output_type": "stream",
     "text": [
      "C:\\Users\\lenovo\\Anaconda3\\lib\\site-packages\\sklearn\\metrics\\classification.py:1145: UndefinedMetricWarning: Recall and F-score are ill-defined and being set to 0.0 in labels with no true samples.\n",
      "  'recall', 'true', average, warn_for)\n"
     ]
    }
   ],
   "source": [
    "from sklearn.metrics import classification_report, confusion_matrix  \n",
    "print(classification_report(yyy.argmax(axis=1), y_pred.argmax(axis=1)) )"
   ]
  },
  {
   "cell_type": "code",
   "execution_count": 60,
   "metadata": {},
   "outputs": [
    {
     "name": "stdout",
     "output_type": "stream",
     "text": [
      "              precision    recall  f1-score   support\n",
      "\n",
      "           0       0.00      0.00      0.00         0\n",
      "           1       1.00      1.00      1.00     20241\n",
      "           2       0.94      0.93      0.94     27357\n",
      "           3       0.91      0.93      0.92     19991\n",
      "           4       0.99      0.99      0.99     12433\n",
      "\n",
      "   micro avg       0.96      0.96      0.96     80022\n",
      "   macro avg       0.77      0.77      0.77     80022\n",
      "weighted avg       0.96      0.96      0.96     80022\n",
      "\n"
     ]
    }
   ],
   "source": [
    "from sklearn.metrics import classification_report, confusion_matrix  \n",
    "print(classification_report(yyy.argmax(axis=1), y_pred.argmax(axis=1)) )"
   ]
  },
  {
   "cell_type": "code",
   "execution_count": 82,
   "metadata": {},
   "outputs": [
    {
     "name": "stdout",
     "output_type": "stream",
     "text": [
      "              precision    recall  f1-score   support\n",
      "\n",
      "           0       0.00      0.00      0.00         0\n",
      "           1       0.99      1.00      1.00     20283\n",
      "           2       0.97      0.89      0.93     27298\n",
      "           3       0.87      0.95      0.91     19993\n",
      "           4       1.00      1.00      1.00     12435\n",
      "\n",
      "   micro avg       0.95      0.95      0.95     80009\n",
      "   macro avg       0.76      0.77      0.77     80009\n",
      "weighted avg       0.95      0.95      0.95     80009\n",
      "\n"
     ]
    }
   ],
   "source": [
    "from sklearn.metrics import classification_report, confusion_matrix  \n",
    "print(classification_report(yyy.argmax(axis=1), y_pred.argmax(axis=1)) )"
   ]
  },
  {
   "cell_type": "code",
   "execution_count": 31,
   "metadata": {},
   "outputs": [],
   "source": [
    "classifier.save('Theeeeeeeemodel.h5')"
   ]
  },
  {
   "cell_type": "code",
   "execution_count": null,
   "metadata": {},
   "outputs": [],
   "source": []
  },
  {
   "cell_type": "code",
   "execution_count": null,
   "metadata": {},
   "outputs": [],
   "source": []
  }
 ],
 "metadata": {
  "kernelspec": {
   "display_name": "Python 3",
   "language": "python",
   "name": "python3"
  },
  "language_info": {
   "codemirror_mode": {
    "name": "ipython",
    "version": 3
   },
   "file_extension": ".py",
   "mimetype": "text/x-python",
   "name": "python",
   "nbconvert_exporter": "python",
   "pygments_lexer": "ipython3",
   "version": "3.6.6"
  }
 },
 "nbformat": 4,
 "nbformat_minor": 2
}
