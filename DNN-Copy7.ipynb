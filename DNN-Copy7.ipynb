{
 "cells": [
  {
   "cell_type": "code",
   "execution_count": 1,
   "metadata": {},
   "outputs": [
    {
     "name": "stdout",
     "output_type": "stream",
     "text": [
      "(256095, 11)\n"
     ]
    }
   ],
   "source": [
    "import pandas as pd \n",
    "from pandas import read_csv\n",
    "\n",
    "def load_file(filepath):\n",
    "\t#dataframe = pd.read_excel(filepath, header=0, delimiter=',')\n",
    "\tdataframe = read_csv(filepath, header=0, delimiter=',')\n",
    "\treturn dataframe\n",
    " \n",
    "df = load_file('leg/merged/Leg/all.csv')#'HAR/Pocket2.xlsx')#Activity_Recognition_DataSet/Pocket.xlsx')\n",
    "df2=load_file('leg/merged/Leg/all.csv')\n",
    "data=df\n",
    "#data = load_file('HAR/5.csv')\n",
    "print(data.shape)"
   ]
  },
  {
   "cell_type": "code",
   "execution_count": 2,
   "metadata": {},
   "outputs": [],
   "source": [
    " \n",
    "from scipy.spatial.distance import cosine\n",
    "import numpy as np\n",
    "from scipy.sparse import csr_matrix\n",
    "#from __future__ import division\n",
    "import matplotlib.pyplot as plt\n",
    "%matplotlib inline \n"
   ]
  },
  {
   "cell_type": "code",
   "execution_count": 3,
   "metadata": {},
   "outputs": [
    {
     "data": {
      "text/html": [
       "<div>\n",
       "<style scoped>\n",
       "    .dataframe tbody tr th:only-of-type {\n",
       "        vertical-align: middle;\n",
       "    }\n",
       "\n",
       "    .dataframe tbody tr th {\n",
       "        vertical-align: top;\n",
       "    }\n",
       "\n",
       "    .dataframe thead th {\n",
       "        text-align: right;\n",
       "    }\n",
       "</style>\n",
       "<table border=\"1\" class=\"dataframe\">\n",
       "  <thead>\n",
       "    <tr style=\"text-align: right;\">\n",
       "      <th></th>\n",
       "      <th>TimeStamp</th>\n",
       "      <th>Ax</th>\n",
       "      <th>Ay</th>\n",
       "      <th>Az</th>\n",
       "      <th>Gx</th>\n",
       "      <th>Gy</th>\n",
       "      <th>Gz</th>\n",
       "      <th>Mx</th>\n",
       "      <th>My</th>\n",
       "      <th>Mz</th>\n",
       "      <th>Activity</th>\n",
       "    </tr>\n",
       "  </thead>\n",
       "  <tbody>\n",
       "    <tr>\n",
       "      <th>0</th>\n",
       "      <td>1.550000e+12</td>\n",
       "      <td>2.743839</td>\n",
       "      <td>4.187587</td>\n",
       "      <td>8.344048</td>\n",
       "      <td>-0.298678</td>\n",
       "      <td>-0.597718</td>\n",
       "      <td>0.082362</td>\n",
       "      <td>5.58</td>\n",
       "      <td>24.660000</td>\n",
       "      <td>-45.840000</td>\n",
       "      <td>1</td>\n",
       "    </tr>\n",
       "    <tr>\n",
       "      <th>1</th>\n",
       "      <td>1.550000e+12</td>\n",
       "      <td>2.667222</td>\n",
       "      <td>3.474093</td>\n",
       "      <td>8.128563</td>\n",
       "      <td>-0.207048</td>\n",
       "      <td>-0.584279</td>\n",
       "      <td>0.205757</td>\n",
       "      <td>5.10</td>\n",
       "      <td>25.439999</td>\n",
       "      <td>-45.239998</td>\n",
       "      <td>1</td>\n",
       "    </tr>\n",
       "    <tr>\n",
       "      <th>2</th>\n",
       "      <td>1.550000e+12</td>\n",
       "      <td>2.710319</td>\n",
       "      <td>3.366350</td>\n",
       "      <td>7.755056</td>\n",
       "      <td>-0.058608</td>\n",
       "      <td>-0.494482</td>\n",
       "      <td>0.281504</td>\n",
       "      <td>5.34</td>\n",
       "      <td>25.500000</td>\n",
       "      <td>-45.719997</td>\n",
       "      <td>1</td>\n",
       "    </tr>\n",
       "    <tr>\n",
       "      <th>3</th>\n",
       "      <td>1.550000e+12</td>\n",
       "      <td>3.320859</td>\n",
       "      <td>3.416630</td>\n",
       "      <td>7.759845</td>\n",
       "      <td>0.050737</td>\n",
       "      <td>-0.411404</td>\n",
       "      <td>0.349310</td>\n",
       "      <td>4.80</td>\n",
       "      <td>25.680000</td>\n",
       "      <td>-45.719997</td>\n",
       "      <td>1</td>\n",
       "    </tr>\n",
       "    <tr>\n",
       "      <th>4</th>\n",
       "      <td>1.550000e+12</td>\n",
       "      <td>3.917034</td>\n",
       "      <td>3.249031</td>\n",
       "      <td>7.783787</td>\n",
       "      <td>0.059289</td>\n",
       "      <td>-0.248303</td>\n",
       "      <td>0.533791</td>\n",
       "      <td>4.32</td>\n",
       "      <td>25.260000</td>\n",
       "      <td>-45.899998</td>\n",
       "      <td>1</td>\n",
       "    </tr>\n",
       "  </tbody>\n",
       "</table>\n",
       "</div>"
      ],
      "text/plain": [
       "      TimeStamp        Ax        Ay        Az        Gx        Gy        Gz  \\\n",
       "0  1.550000e+12  2.743839  4.187587  8.344048 -0.298678 -0.597718  0.082362   \n",
       "1  1.550000e+12  2.667222  3.474093  8.128563 -0.207048 -0.584279  0.205757   \n",
       "2  1.550000e+12  2.710319  3.366350  7.755056 -0.058608 -0.494482  0.281504   \n",
       "3  1.550000e+12  3.320859  3.416630  7.759845  0.050737 -0.411404  0.349310   \n",
       "4  1.550000e+12  3.917034  3.249031  7.783787  0.059289 -0.248303  0.533791   \n",
       "\n",
       "     Mx         My         Mz  Activity  \n",
       "0  5.58  24.660000 -45.840000         1  \n",
       "1  5.10  25.439999 -45.239998         1  \n",
       "2  5.34  25.500000 -45.719997         1  \n",
       "3  4.80  25.680000 -45.719997         1  \n",
       "4  4.32  25.260000 -45.899998         1  "
      ]
     },
     "execution_count": 3,
     "metadata": {},
     "output_type": "execute_result"
    }
   ],
   "source": [
    "\n",
    "mylist = [\"Ax\", \"Ay\", \"Az\",\"Gx\", \"Gy\", \"Gz\", \"Mx\", \"My\",\"Mz\"]\n",
    "df.head()"
   ]
  },
  {
   "cell_type": "code",
   "execution_count": 4,
   "metadata": {},
   "outputs": [
    {
     "data": {
      "text/html": [
       "<div>\n",
       "<style scoped>\n",
       "    .dataframe tbody tr th:only-of-type {\n",
       "        vertical-align: middle;\n",
       "    }\n",
       "\n",
       "    .dataframe tbody tr th {\n",
       "        vertical-align: top;\n",
       "    }\n",
       "\n",
       "    .dataframe thead th {\n",
       "        text-align: right;\n",
       "    }\n",
       "</style>\n",
       "<table border=\"1\" class=\"dataframe\">\n",
       "  <thead>\n",
       "    <tr style=\"text-align: right;\">\n",
       "      <th></th>\n",
       "      <th>TimeStamp</th>\n",
       "      <th>Ax</th>\n",
       "      <th>Ay</th>\n",
       "      <th>Az</th>\n",
       "      <th>Gx</th>\n",
       "      <th>Gy</th>\n",
       "      <th>Gz</th>\n",
       "      <th>Mx</th>\n",
       "      <th>My</th>\n",
       "      <th>Mz</th>\n",
       "      <th>Activity</th>\n",
       "    </tr>\n",
       "  </thead>\n",
       "  <tbody>\n",
       "    <tr>\n",
       "      <th>0</th>\n",
       "      <td>1.550000e+12</td>\n",
       "      <td>NaN</td>\n",
       "      <td>NaN</td>\n",
       "      <td>NaN</td>\n",
       "      <td>NaN</td>\n",
       "      <td>NaN</td>\n",
       "      <td>NaN</td>\n",
       "      <td>NaN</td>\n",
       "      <td>NaN</td>\n",
       "      <td>NaN</td>\n",
       "      <td>1</td>\n",
       "    </tr>\n",
       "    <tr>\n",
       "      <th>1</th>\n",
       "      <td>1.550000e+12</td>\n",
       "      <td>NaN</td>\n",
       "      <td>NaN</td>\n",
       "      <td>NaN</td>\n",
       "      <td>NaN</td>\n",
       "      <td>NaN</td>\n",
       "      <td>NaN</td>\n",
       "      <td>NaN</td>\n",
       "      <td>NaN</td>\n",
       "      <td>NaN</td>\n",
       "      <td>1</td>\n",
       "    </tr>\n",
       "    <tr>\n",
       "      <th>2</th>\n",
       "      <td>1.550000e+12</td>\n",
       "      <td>NaN</td>\n",
       "      <td>NaN</td>\n",
       "      <td>NaN</td>\n",
       "      <td>NaN</td>\n",
       "      <td>NaN</td>\n",
       "      <td>NaN</td>\n",
       "      <td>NaN</td>\n",
       "      <td>NaN</td>\n",
       "      <td>NaN</td>\n",
       "      <td>1</td>\n",
       "    </tr>\n",
       "    <tr>\n",
       "      <th>3</th>\n",
       "      <td>1.550000e+12</td>\n",
       "      <td>NaN</td>\n",
       "      <td>NaN</td>\n",
       "      <td>NaN</td>\n",
       "      <td>NaN</td>\n",
       "      <td>NaN</td>\n",
       "      <td>NaN</td>\n",
       "      <td>NaN</td>\n",
       "      <td>NaN</td>\n",
       "      <td>NaN</td>\n",
       "      <td>1</td>\n",
       "    </tr>\n",
       "    <tr>\n",
       "      <th>4</th>\n",
       "      <td>1.550000e+12</td>\n",
       "      <td>NaN</td>\n",
       "      <td>NaN</td>\n",
       "      <td>NaN</td>\n",
       "      <td>NaN</td>\n",
       "      <td>NaN</td>\n",
       "      <td>NaN</td>\n",
       "      <td>NaN</td>\n",
       "      <td>NaN</td>\n",
       "      <td>NaN</td>\n",
       "      <td>1</td>\n",
       "    </tr>\n",
       "  </tbody>\n",
       "</table>\n",
       "</div>"
      ],
      "text/plain": [
       "      TimeStamp  Ax  Ay  Az  Gx  Gy  Gz  Mx  My  Mz  Activity\n",
       "0  1.550000e+12 NaN NaN NaN NaN NaN NaN NaN NaN NaN         1\n",
       "1  1.550000e+12 NaN NaN NaN NaN NaN NaN NaN NaN NaN         1\n",
       "2  1.550000e+12 NaN NaN NaN NaN NaN NaN NaN NaN NaN         1\n",
       "3  1.550000e+12 NaN NaN NaN NaN NaN NaN NaN NaN NaN         1\n",
       "4  1.550000e+12 NaN NaN NaN NaN NaN NaN NaN NaN NaN         1"
      ]
     },
     "execution_count": 4,
     "metadata": {},
     "output_type": "execute_result"
    }
   ],
   "source": [
    "\n",
    "for i in mylist:\n",
    "    df[i]=df[i].rolling(20).mean()\n",
    "df.head()"
   ]
  },
  {
   "cell_type": "code",
   "execution_count": 5,
   "metadata": {},
   "outputs": [],
   "source": [
    "df22=df.dropna(inplace=True)\n",
    "df22"
   ]
  },
  {
   "cell_type": "code",
   "execution_count": 6,
   "metadata": {},
   "outputs": [
    {
     "name": "stderr",
     "output_type": "stream",
     "text": [
      "Using TensorFlow backend.\n"
     ]
    }
   ],
   "source": [
    "# Importing the Keras libraries and packages\n",
    "import keras\n",
    "from keras.models import Sequential\n",
    "from keras.layers import Dense"
   ]
  },
  {
   "cell_type": "code",
   "execution_count": 7,
   "metadata": {},
   "outputs": [],
   "source": [
    "def timeSeriesToSupervised(df,var_list,window_size=1, dropnan=True):\n",
    "    for var in var_list:\n",
    "        for idx in range(window_size,-window_size,-1):\n",
    "            var_name = var + '(t+' + str(idx) + ')'    \n",
    "            df[var_name] = df[var].shift(-idx)\n",
    "\n",
    "    if dropnan:\n",
    "        df.dropna(inplace=True)\n",
    "    return df"
   ]
  },
  {
   "cell_type": "code",
   "execution_count": 8,
   "metadata": {},
   "outputs": [],
   "source": [
    "df2= timeSeriesToSupervised(df,mylist,30,True)\n"
   ]
  },
  {
   "cell_type": "code",
   "execution_count": 9,
   "metadata": {},
   "outputs": [
    {
     "data": {
      "text/html": [
       "<div>\n",
       "<style scoped>\n",
       "    .dataframe tbody tr th:only-of-type {\n",
       "        vertical-align: middle;\n",
       "    }\n",
       "\n",
       "    .dataframe tbody tr th {\n",
       "        vertical-align: top;\n",
       "    }\n",
       "\n",
       "    .dataframe thead th {\n",
       "        text-align: right;\n",
       "    }\n",
       "</style>\n",
       "<table border=\"1\" class=\"dataframe\">\n",
       "  <thead>\n",
       "    <tr style=\"text-align: right;\">\n",
       "      <th></th>\n",
       "      <th>TimeStamp</th>\n",
       "      <th>Ax</th>\n",
       "      <th>Ay</th>\n",
       "      <th>Az</th>\n",
       "      <th>Gx</th>\n",
       "      <th>Gy</th>\n",
       "      <th>Gz</th>\n",
       "      <th>Mx</th>\n",
       "      <th>My</th>\n",
       "      <th>Mz</th>\n",
       "      <th>...</th>\n",
       "      <th>Mz(t+-20)</th>\n",
       "      <th>Mz(t+-21)</th>\n",
       "      <th>Mz(t+-22)</th>\n",
       "      <th>Mz(t+-23)</th>\n",
       "      <th>Mz(t+-24)</th>\n",
       "      <th>Mz(t+-25)</th>\n",
       "      <th>Mz(t+-26)</th>\n",
       "      <th>Mz(t+-27)</th>\n",
       "      <th>Mz(t+-28)</th>\n",
       "      <th>Mz(t+-29)</th>\n",
       "    </tr>\n",
       "  </thead>\n",
       "  <tbody>\n",
       "    <tr>\n",
       "      <th>48410</th>\n",
       "      <td>1.550000e+12</td>\n",
       "      <td>1.699935</td>\n",
       "      <td>2.010832</td>\n",
       "      <td>9.318159</td>\n",
       "      <td>0.029998</td>\n",
       "      <td>0.003404</td>\n",
       "      <td>-0.005297</td>\n",
       "      <td>7.071</td>\n",
       "      <td>36.887999</td>\n",
       "      <td>-38.246999</td>\n",
       "      <td>...</td>\n",
       "      <td>-39.276000</td>\n",
       "      <td>-39.318000</td>\n",
       "      <td>-39.357000</td>\n",
       "      <td>-39.435000</td>\n",
       "      <td>-39.543000</td>\n",
       "      <td>-39.591000</td>\n",
       "      <td>-39.585000</td>\n",
       "      <td>-39.569999</td>\n",
       "      <td>-39.551999</td>\n",
       "      <td>-39.512999</td>\n",
       "    </tr>\n",
       "    <tr>\n",
       "      <th>165553</th>\n",
       "      <td>1.550000e+12</td>\n",
       "      <td>2.237929</td>\n",
       "      <td>9.315285</td>\n",
       "      <td>2.183938</td>\n",
       "      <td>0.135382</td>\n",
       "      <td>0.329989</td>\n",
       "      <td>0.050094</td>\n",
       "      <td>21.474</td>\n",
       "      <td>-28.626000</td>\n",
       "      <td>-35.981999</td>\n",
       "      <td>...</td>\n",
       "      <td>-37.925999</td>\n",
       "      <td>-38.096999</td>\n",
       "      <td>-38.346000</td>\n",
       "      <td>-38.562000</td>\n",
       "      <td>-38.757000</td>\n",
       "      <td>-38.997000</td>\n",
       "      <td>-39.186000</td>\n",
       "      <td>-39.387000</td>\n",
       "      <td>-39.558000</td>\n",
       "      <td>-39.699000</td>\n",
       "    </tr>\n",
       "    <tr>\n",
       "      <th>114255</th>\n",
       "      <td>1.550000e+12</td>\n",
       "      <td>6.482619</td>\n",
       "      <td>4.868518</td>\n",
       "      <td>5.472714</td>\n",
       "      <td>-0.000269</td>\n",
       "      <td>0.000841</td>\n",
       "      <td>0.001534</td>\n",
       "      <td>-31.485</td>\n",
       "      <td>23.466000</td>\n",
       "      <td>-5.538000</td>\n",
       "      <td>...</td>\n",
       "      <td>-5.553000</td>\n",
       "      <td>-5.550000</td>\n",
       "      <td>-5.556000</td>\n",
       "      <td>-5.529000</td>\n",
       "      <td>-5.568000</td>\n",
       "      <td>-5.670000</td>\n",
       "      <td>-5.712000</td>\n",
       "      <td>-5.724000</td>\n",
       "      <td>-5.766000</td>\n",
       "      <td>-5.805000</td>\n",
       "    </tr>\n",
       "    <tr>\n",
       "      <th>11111</th>\n",
       "      <td>1.550000e+12</td>\n",
       "      <td>3.741054</td>\n",
       "      <td>2.570134</td>\n",
       "      <td>8.585510</td>\n",
       "      <td>-0.016305</td>\n",
       "      <td>0.014583</td>\n",
       "      <td>0.005545</td>\n",
       "      <td>-8.436</td>\n",
       "      <td>34.923000</td>\n",
       "      <td>-39.041999</td>\n",
       "      <td>...</td>\n",
       "      <td>-36.353999</td>\n",
       "      <td>-36.314999</td>\n",
       "      <td>-36.302999</td>\n",
       "      <td>-36.275999</td>\n",
       "      <td>-36.248999</td>\n",
       "      <td>-36.137999</td>\n",
       "      <td>-36.047999</td>\n",
       "      <td>-36.059999</td>\n",
       "      <td>-36.132000</td>\n",
       "      <td>-36.117000</td>\n",
       "    </tr>\n",
       "    <tr>\n",
       "      <th>194058</th>\n",
       "      <td>1.550000e+12</td>\n",
       "      <td>0.537156</td>\n",
       "      <td>9.073942</td>\n",
       "      <td>3.430876</td>\n",
       "      <td>0.802034</td>\n",
       "      <td>-0.669059</td>\n",
       "      <td>-0.339921</td>\n",
       "      <td>-17.760</td>\n",
       "      <td>-14.118000</td>\n",
       "      <td>-34.928999</td>\n",
       "      <td>...</td>\n",
       "      <td>-27.294000</td>\n",
       "      <td>-26.277000</td>\n",
       "      <td>-25.266000</td>\n",
       "      <td>-24.288000</td>\n",
       "      <td>-23.298000</td>\n",
       "      <td>-22.389000</td>\n",
       "      <td>-21.645000</td>\n",
       "      <td>-21.030000</td>\n",
       "      <td>-20.517000</td>\n",
       "      <td>-20.064000</td>\n",
       "    </tr>\n",
       "  </tbody>\n",
       "</table>\n",
       "<p>5 rows × 551 columns</p>\n",
       "</div>"
      ],
      "text/plain": [
       "           TimeStamp        Ax        Ay        Az        Gx        Gy  \\\n",
       "48410   1.550000e+12  1.699935  2.010832  9.318159  0.029998  0.003404   \n",
       "165553  1.550000e+12  2.237929  9.315285  2.183938  0.135382  0.329989   \n",
       "114255  1.550000e+12  6.482619  4.868518  5.472714 -0.000269  0.000841   \n",
       "11111   1.550000e+12  3.741054  2.570134  8.585510 -0.016305  0.014583   \n",
       "194058  1.550000e+12  0.537156  9.073942  3.430876  0.802034 -0.669059   \n",
       "\n",
       "              Gz      Mx         My         Mz    ...      Mz(t+-20)  \\\n",
       "48410  -0.005297   7.071  36.887999 -38.246999    ...     -39.276000   \n",
       "165553  0.050094  21.474 -28.626000 -35.981999    ...     -37.925999   \n",
       "114255  0.001534 -31.485  23.466000  -5.538000    ...      -5.553000   \n",
       "11111   0.005545  -8.436  34.923000 -39.041999    ...     -36.353999   \n",
       "194058 -0.339921 -17.760 -14.118000 -34.928999    ...     -27.294000   \n",
       "\n",
       "        Mz(t+-21)  Mz(t+-22)  Mz(t+-23)  Mz(t+-24)  Mz(t+-25)  Mz(t+-26)  \\\n",
       "48410  -39.318000 -39.357000 -39.435000 -39.543000 -39.591000 -39.585000   \n",
       "165553 -38.096999 -38.346000 -38.562000 -38.757000 -38.997000 -39.186000   \n",
       "114255  -5.550000  -5.556000  -5.529000  -5.568000  -5.670000  -5.712000   \n",
       "11111  -36.314999 -36.302999 -36.275999 -36.248999 -36.137999 -36.047999   \n",
       "194058 -26.277000 -25.266000 -24.288000 -23.298000 -22.389000 -21.645000   \n",
       "\n",
       "        Mz(t+-27)  Mz(t+-28)  Mz(t+-29)  \n",
       "48410  -39.569999 -39.551999 -39.512999  \n",
       "165553 -39.387000 -39.558000 -39.699000  \n",
       "114255  -5.724000  -5.766000  -5.805000  \n",
       "11111  -36.059999 -36.132000 -36.117000  \n",
       "194058 -21.030000 -20.517000 -20.064000  \n",
       "\n",
       "[5 rows x 551 columns]"
      ]
     },
     "execution_count": 9,
     "metadata": {},
     "output_type": "execute_result"
    }
   ],
   "source": [
    "df2=df2.sample(frac=1)\n",
    "df2.head()"
   ]
  },
  {
   "cell_type": "code",
   "execution_count": 10,
   "metadata": {},
   "outputs": [],
   "source": [
    "\n",
    "#X = df2.drop('Activity_Label', axis=1)  \n",
    "X = df2.drop('TimeStamp', axis=1)  \n",
    "y = df2['Activity']  "
   ]
  },
  {
   "cell_type": "code",
   "execution_count": 11,
   "metadata": {},
   "outputs": [],
   "source": [
    "from sklearn.model_selection import train_test_split  \n",
    "X_train, X_test, y_train, y_test = train_test_split(X, y, test_size=0.33) "
   ]
  },
  {
   "cell_type": "code",
   "execution_count": 12,
   "metadata": {},
   "outputs": [],
   "source": [
    "#check image shape\n",
    "X_test.shape\n",
    "X2=X_train\n",
    "X_test=X_test.drop('Activity', axis=1) \n",
    "X_train=X_train.drop('Activity', axis=1)  "
   ]
  },
  {
   "cell_type": "code",
   "execution_count": 13,
   "metadata": {},
   "outputs": [],
   "source": [
    "#Initializing Neural Network\n",
    "classifier = Sequential()"
   ]
  },
  {
   "cell_type": "code",
   "execution_count": 14,
   "metadata": {},
   "outputs": [],
   "source": [
    "from keras.utils import to_categorical\n",
    "y_binary = to_categorical(y_train)"
   ]
  },
  {
   "cell_type": "code",
   "execution_count": 15,
   "metadata": {},
   "outputs": [
    {
     "data": {
      "text/plain": [
       "(171531, 549)"
      ]
     },
     "execution_count": 15,
     "metadata": {},
     "output_type": "execute_result"
    }
   ],
   "source": [
    "X_train.shape"
   ]
  },
  {
   "cell_type": "code",
   "execution_count": 16,
   "metadata": {},
   "outputs": [
    {
     "name": "stdout",
     "output_type": "stream",
     "text": [
      "WARNING:tensorflow:From C:\\Users\\lenovo\\Anaconda3\\lib\\site-packages\\tensorflow\\python\\framework\\op_def_library.py:263: colocate_with (from tensorflow.python.framework.ops) is deprecated and will be removed in a future version.\n",
      "Instructions for updating:\n",
      "Colocations handled automatically by placer.\n"
     ]
    },
    {
     "name": "stderr",
     "output_type": "stream",
     "text": [
      "C:\\Users\\lenovo\\Anaconda3\\lib\\site-packages\\ipykernel_launcher.py:10: UserWarning: Update your `Dense` call to the Keras 2 API: `Dense(activation=\"sigmoid\", units=5, kernel_initializer=\"uniform\")`\n",
      "  # Remove the CWD from sys.path while we load stuff.\n"
     ]
    }
   ],
   "source": [
    "# Adding the input layer and the first hidden layer\n",
    "classifier.add(Dense(activation=\"softmax\", input_dim=549, units=600, kernel_initializer=\"uniform\"))\n",
    "# Adding the second hidden layer\n",
    "classifier.add(Dense(activation=\"relu\", units=600, kernel_initializer=\"uniform\"))\n",
    "# Adding the second hidden layer\n",
    "classifier.add(Dense(activation=\"relu\", units=600, kernel_initializer=\"uniform\"))\n",
    "# Adding the second hidden layer\n",
    "classifier.add(Dense(activation=\"relu\", units=600, kernel_initializer=\"uniform\"))\n",
    "# Adding the output layer\n",
    "classifier.add(Dense(output_dim = 5, init = 'uniform', activation = 'sigmoid'))"
   ]
  },
  {
   "cell_type": "code",
   "execution_count": 17,
   "metadata": {},
   "outputs": [],
   "source": [
    "# Compiling Neural Network\n",
    "classifier.compile(optimizer = 'adam', loss = 'categorical_crossentropy', metrics = ['accuracy'])"
   ]
  },
  {
   "cell_type": "code",
   "execution_count": 18,
   "metadata": {},
   "outputs": [
    {
     "name": "stdout",
     "output_type": "stream",
     "text": [
      "WARNING:tensorflow:From C:\\Users\\lenovo\\Anaconda3\\lib\\site-packages\\tensorflow\\python\\ops\\math_ops.py:3066: to_int32 (from tensorflow.python.ops.math_ops) is deprecated and will be removed in a future version.\n",
      "Instructions for updating:\n",
      "Use tf.cast instead.\n",
      "Epoch 1/5\n",
      "171531/171531 [==============================] - 72s 418us/step - loss: 0.3929 - acc: 0.8183\n",
      "Epoch 2/5\n",
      "171531/171531 [==============================] - 50s 291us/step - loss: 0.2284 - acc: 0.9144\n",
      "Epoch 3/5\n",
      "171531/171531 [==============================] - 50s 291us/step - loss: 0.3095 - acc: 0.8400\n",
      "Epoch 4/5\n",
      "171531/171531 [==============================] - 58s 337us/step - loss: 0.3060 - acc: 0.8472\n",
      "Epoch 5/5\n",
      "171531/171531 [==============================] - 61s 357us/step - loss: 0.2850 - acc: 0.8632\n"
     ]
    },
    {
     "data": {
      "text/plain": [
       "<keras.callbacks.History at 0xe783358>"
      ]
     },
     "execution_count": 18,
     "metadata": {},
     "output_type": "execute_result"
    }
   ],
   "source": [
    "# Fitting our model \n",
    "classifier.fit(X_train, y_binary, batch_size = 200, epochs = 5)"
   ]
  },
  {
   "cell_type": "code",
   "execution_count": 19,
   "metadata": {},
   "outputs": [],
   "source": [
    "# Predicting the Test set results\n",
    "y_pred = classifier.predict(X_test)"
   ]
  },
  {
   "cell_type": "code",
   "execution_count": 20,
   "metadata": {},
   "outputs": [
    {
     "data": {
      "text/plain": [
       "array([[0., 0., 0., 1., 0.],\n",
       "       [0., 0., 0., 1., 0.],\n",
       "       [0., 0., 1., 0., 0.],\n",
       "       ...,\n",
       "       [0., 0., 1., 0., 0.],\n",
       "       [0., 0., 1., 0., 0.],\n",
       "       [0., 0., 0., 1., 0.]], dtype=float32)"
      ]
     },
     "execution_count": 20,
     "metadata": {},
     "output_type": "execute_result"
    }
   ],
   "source": [
    "yy=to_categorical(y_test)\n",
    "yy"
   ]
  },
  {
   "cell_type": "code",
   "execution_count": 21,
   "metadata": {},
   "outputs": [
    {
     "data": {
      "text/plain": [
       "array([[False, False, False,  True, False],\n",
       "       [False, False, False,  True, False],\n",
       "       [False, False,  True, False, False],\n",
       "       ...,\n",
       "       [False, False,  True, False, False],\n",
       "       [False, False,  True, False, False],\n",
       "       [False, False, False,  True, False]])"
      ]
     },
     "execution_count": 21,
     "metadata": {},
     "output_type": "execute_result"
    }
   ],
   "source": [
    "yyy = (yy > 0.5)\n",
    "yyy"
   ]
  },
  {
   "cell_type": "code",
   "execution_count": 22,
   "metadata": {},
   "outputs": [
    {
     "name": "stdout",
     "output_type": "stream",
     "text": [
      "(84486, 5)\n",
      "(84486, 5)\n"
     ]
    }
   ],
   "source": [
    "print(yyy.shape)\n",
    "print(y_pred.shape)"
   ]
  },
  {
   "cell_type": "code",
   "execution_count": 23,
   "metadata": {},
   "outputs": [
    {
     "data": {
      "text/plain": [
       "array([[False, False, False,  True, False],\n",
       "       [False, False, False,  True, False],\n",
       "       [False,  True, False, False, False],\n",
       "       ...,\n",
       "       [False,  True, False, False, False],\n",
       "       [False, False,  True, False, False],\n",
       "       [False, False, False,  True, False]])"
      ]
     },
     "execution_count": 23,
     "metadata": {},
     "output_type": "execute_result"
    }
   ],
   "source": [
    "y_pred = (y_pred > 0.5)\n",
    "y_pred"
   ]
  },
  {
   "cell_type": "code",
   "execution_count": 24,
   "metadata": {},
   "outputs": [
    {
     "data": {
      "text/plain": [
       "array([[    0,     0,     0,     0,     0],\n",
       "       [    0, 23298,     0,     0,     0],\n",
       "       [    3, 11006, 12500,     0,     0],\n",
       "       [    0,     0,     1, 16122,   108],\n",
       "       [    0,     0,     0,   508, 20940]], dtype=int64)"
      ]
     },
     "execution_count": 24,
     "metadata": {},
     "output_type": "execute_result"
    }
   ],
   "source": [
    "from sklearn.metrics import confusion_matrix\n",
    "cm = confusion_matrix(\n",
    "    yyy.argmax(axis=1), y_pred.argmax(axis=1))#confusion_matrix(yyy, y_pred)\n",
    "cm"
   ]
  },
  {
   "cell_type": "code",
   "execution_count": 25,
   "metadata": {},
   "outputs": [
    {
     "name": "stdout",
     "output_type": "stream",
     "text": [
      "              precision    recall  f1-score   support\n",
      "\n",
      "           0       0.00      0.00      0.00         0\n",
      "           1       0.68      1.00      0.81     23298\n",
      "           2       1.00      0.53      0.69     23509\n",
      "           3       0.97      0.99      0.98     16231\n",
      "           4       0.99      0.98      0.99     21448\n",
      "\n",
      "   micro avg       0.86      0.86      0.86     84486\n",
      "   macro avg       0.73      0.70      0.69     84486\n",
      "weighted avg       0.90      0.86      0.85     84486\n",
      "\n"
     ]
    },
    {
     "name": "stderr",
     "output_type": "stream",
     "text": [
      "C:\\Users\\lenovo\\Anaconda3\\lib\\site-packages\\sklearn\\metrics\\classification.py:1145: UndefinedMetricWarning: Recall and F-score are ill-defined and being set to 0.0 in labels with no true samples.\n",
      "  'recall', 'true', average, warn_for)\n"
     ]
    }
   ],
   "source": [
    "from sklearn.metrics import classification_report, confusion_matrix  \n",
    "print(classification_report(yyy.argmax(axis=1), y_pred.argmax(axis=1)) )"
   ]
  },
  {
   "cell_type": "code",
   "execution_count": 26,
   "metadata": {},
   "outputs": [],
   "source": [
    "classifier.save('TheFoot.h5')"
   ]
  },
  {
   "cell_type": "code",
   "execution_count": null,
   "metadata": {},
   "outputs": [],
   "source": []
  },
  {
   "cell_type": "code",
   "execution_count": null,
   "metadata": {},
   "outputs": [],
   "source": []
  }
 ],
 "metadata": {
  "kernelspec": {
   "display_name": "Python 3",
   "language": "python",
   "name": "python3"
  },
  "language_info": {
   "codemirror_mode": {
    "name": "ipython",
    "version": 3
   },
   "file_extension": ".py",
   "mimetype": "text/x-python",
   "name": "python",
   "nbconvert_exporter": "python",
   "pygments_lexer": "ipython3",
   "version": "3.6.6"
  }
 },
 "nbformat": 4,
 "nbformat_minor": 2
}
