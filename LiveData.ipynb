{
 "cells": [
  {
   "cell_type": "code",
   "execution_count": 5,
   "metadata": {
    "scrolled": false
   },
   "outputs": [
    {
     "data": {
      "image/png": "[encoded data removed]",
      "text/plain": [
       "<Figure size 432x288 with 1 Axes>"
      ]
     },
     "metadata": {
      "needs_background": "light"
     },
     "output_type": "display_data"
    }
   ],
   "source": [
    "from flask import Flask\n",
    "from flask_sockets import Sockets\n",
    "from matplotlib import pyplot as plt\n",
    "import matplotlib.pyplot as plt\n",
    "import matplotlib.animation as anim\n",
    "import time\n",
    "\n",
    "fig = plt.figure()\n",
    "ax1 = fig.add_subplot(1,1,1)\n",
    "\n",
    "\n",
    "def plot_cont(xi, xmax):\n",
    "    y = []\n",
    "    fig = plt.figure()\n",
    "    ax = fig.add_subplot(1,1,1)\n",
    "\n",
    "    def update(i):\n",
    "        #yi = fun()\n",
    "        y.append(xi)\n",
    "        x = range(len(y))\n",
    "        ax.clear()\n",
    "        ax.plot(x, y)\n",
    "        #print(i, ': ', xi)\n",
    "\n",
    "    a = anim.FuncAnimation(fig, update, frames=xmax, repeat=False)\n",
    "    plt.show()\n",
    "\n"
   ]
  },
  {
   "cell_type": "code",
   "execution_count": null,
   "metadata": {
    "scrolled": false
   },
   "outputs": [
    {
     "data": {
      "text/plain": [
       "<Figure size 640x480 with 1 Axes>"
      ]
     },
     "metadata": {},
     "output_type": "display_data"
    },
    {
     "name": "stdout",
     "output_type": "stream",
     "text": [
      "hello\n"
     ]
    },
    {
     "data": {
      "text/plain": [
       "<Figure size 640x480 with 1 Axes>"
      ]
     },
     "metadata": {},
     "output_type": "display_data"
    },
    {
     "name": "stdout",
     "output_type": "stream",
     "text": [
      "hello\n"
     ]
    },
    {
     "data": {
      "text/plain": [
       "<Figure size 640x480 with 1 Axes>"
      ]
     },
     "metadata": {},
     "output_type": "display_data"
    },
    {
     "name": "stdout",
     "output_type": "stream",
     "text": [
      "hello\n"
     ]
    },
    {
     "data": {
      "text/plain": [
       "<Figure size 640x480 with 1 Axes>"
      ]
     },
     "metadata": {},
     "output_type": "display_data"
    },
    {
     "name": "stdout",
     "output_type": "stream",
     "text": [
      "hello\n"
     ]
    },
    {
     "data": {
      "text/plain": [
       "<Figure size 640x480 with 1 Axes>"
      ]
     },
     "metadata": {},
     "output_type": "display_data"
    },
    {
     "name": "stdout",
     "output_type": "stream",
     "text": [
      "hello\n"
     ]
    },
    {
     "data": {
      "text/plain": [
       "<Figure size 640x480 with 1 Axes>"
      ]
     },
     "metadata": {},
     "output_type": "display_data"
    },
    {
     "name": "stdout",
     "output_type": "stream",
     "text": [
      "hello\n"
     ]
    },
    {
     "data": {
      "text/plain": [
       "<Figure size 640x480 with 1 Axes>"
      ]
     },
     "metadata": {},
     "output_type": "display_data"
    },
    {
     "name": "stdout",
     "output_type": "stream",
     "text": [
      "hello\n"
     ]
    },
    {
     "data": {
      "text/plain": [
       "<Figure size 640x480 with 1 Axes>"
      ]
     },
     "metadata": {},
     "output_type": "display_data"
    },
    {
     "name": "stdout",
     "output_type": "stream",
     "text": [
      "hello\n"
     ]
    },
    {
     "data": {
      "text/plain": [
       "<Figure size 640x480 with 1 Axes>"
      ]
     },
     "metadata": {},
     "output_type": "display_data"
    },
    {
     "name": "stdout",
     "output_type": "stream",
     "text": [
      "hello\n"
     ]
    },
    {
     "data": {
      "text/plain": [
       "<Figure size 640x480 with 1 Axes>"
      ]
     },
     "metadata": {},
     "output_type": "display_data"
    },
    {
     "name": "stdout",
     "output_type": "stream",
     "text": [
      "hello\n"
     ]
    },
    {
     "data": {
      "text/plain": [
       "<Figure size 640x480 with 1 Axes>"
      ]
     },
     "metadata": {},
     "output_type": "display_data"
    },
    {
     "name": "stdout",
     "output_type": "stream",
     "text": [
      "hello\n"
     ]
    },
    {
     "data": {
      "text/plain": [
       "<Figure size 640x480 with 1 Axes>"
      ]
     },
     "metadata": {},
     "output_type": "display_data"
    },
    {
     "name": "stdout",
     "output_type": "stream",
     "text": [
      "hello\n"
     ]
    },
    {
     "data": {
      "text/plain": [
       "<Figure size 640x480 with 1 Axes>"
      ]
     },
     "metadata": {},
     "output_type": "display_data"
    },
    {
     "name": "stdout",
     "output_type": "stream",
     "text": [
      "hello\n"
     ]
    },
    {
     "data": {
      "text/plain": [
       "<Figure size 640x480 with 1 Axes>"
      ]
     },
     "metadata": {},
     "output_type": "display_data"
    },
    {
     "name": "stdout",
     "output_type": "stream",
     "text": [
      "hello\n"
     ]
    },
    {
     "data": {
      "text/plain": [
       "<Figure size 640x480 with 1 Axes>"
      ]
     },
     "metadata": {},
     "output_type": "display_data"
    },
    {
     "name": "stdout",
     "output_type": "stream",
     "text": [
      "hello\n"
     ]
    },
    {
     "data": {
      "text/plain": [
       "<Figure size 640x480 with 1 Axes>"
      ]
     },
     "metadata": {},
     "output_type": "display_data"
    },
    {
     "name": "stdout",
     "output_type": "stream",
     "text": [
      "hello\n"
     ]
    },
    {
     "name": "stderr",
     "output_type": "stream",
     "text": [
      "Traceback (most recent call last):\n",
      "  File \"c:\\python\\python36\\lib\\site-packages\\gevent\\pywsgi.py\", line 936, in handle_one_response\n",
      "    self.run_application()\n",
      "  File \"c:\\python\\python36\\lib\\site-packages\\geventwebsocket\\handler.py\", line 75, in run_application\n",
      "    self.run_websocket()\n",
      "  File \"c:\\python\\python36\\lib\\site-packages\\geventwebsocket\\handler.py\", line 52, in run_websocket\n",
      "    list(self.application(self.environ, lambda s, h, e=None: []))\n",
      "  File \"c:\\python\\python36\\lib\\site-packages\\flask\\app.py\", line 1997, in __call__\n",
      "    return self.wsgi_app(environ, start_response)\n",
      "  File \"c:\\python\\python36\\lib\\site-packages\\flask_sockets.py\", line 45, in __call__\n",
      "    handler(environment, **values)\n",
      "  File \"<ipython-input-1-cd68ffb91939>\", line 50, in echo_socket\n",
      "    a = converter(\"accel\", message)\n",
      "  File \"<ipython-input-1-cd68ffb91939>\", line 25, in converter\n",
      "    for x in val:\n",
      "TypeError: 'NoneType' object is not iterable\n",
      "Tue Feb 26 12:53:39 2019 {'REMOTE_ADDR': '192.168.100.180', 'REMOTE_PORT': '57428', 'HTTP_HOST': '192.168.100.102:5000', (hidden keys: 26)} failed with TypeError\n",
      "\n",
      "Traceback (most recent call last):\n",
      "  File \"c:\\python\\python36\\lib\\site-packages\\gevent\\pywsgi.py\", line 936, in handle_one_response\n",
      "    self.run_application()\n",
      "  File \"c:\\python\\python36\\lib\\site-packages\\geventwebsocket\\handler.py\", line 75, in run_application\n",
      "    self.run_websocket()\n",
      "  File \"c:\\python\\python36\\lib\\site-packages\\geventwebsocket\\handler.py\", line 52, in run_websocket\n",
      "    list(self.application(self.environ, lambda s, h, e=None: []))\n",
      "  File \"c:\\python\\python36\\lib\\site-packages\\flask\\app.py\", line 1997, in __call__\n",
      "    return self.wsgi_app(environ, start_response)\n",
      "  File \"c:\\python\\python36\\lib\\site-packages\\flask_sockets.py\", line 45, in __call__\n",
      "    handler(environment, **values)\n",
      "  File \"<ipython-input-1-cd68ffb91939>\", line 50, in echo_socket\n",
      "    a = converter(\"accel\", message)\n",
      "  File \"<ipython-input-1-cd68ffb91939>\", line 25, in converter\n",
      "    for x in val:\n",
      "TypeError: 'NoneType' object is not iterable\n",
      "Tue Feb 26 12:53:40 2019 {'REMOTE_ADDR': '192.168.100.180', 'REMOTE_PORT': '50686', 'HTTP_HOST': '192.168.100.102:5000', (hidden keys: 26)} failed with TypeError\n",
      "\n"
     ]
    }
   ],
   "source": [
    "from flask import Flask\n",
    "from flask_sockets import Sockets\n",
    "import matplotlib.pyplot as plt\n",
    "import matplotlib.animation as anim\n",
    "import time\n",
    "\n",
    "fig = plt.figure()\n",
    "ax1 = fig.add_subplot(1,1,1)\n",
    "\n",
    "\n",
    "app = Flask(__name__)\n",
    "sockets = Sockets(app)\n",
    "accelX=[]\n",
    "accelY=[]\n",
    "accelZ=[]\n",
    "times=[]\n",
    "gyroX=[]\n",
    "gyroY=[]\n",
    "gyroZ=[]\n",
    "\n",
    "\n",
    "def converter(types, val):\n",
    "    a = []\n",
    "    temp = \"\"\n",
    "    for x in val:\n",
    "        if x == \",\":\n",
    "            a.append(float(temp))\n",
    "            temp = \"\"\n",
    "        else:\n",
    "            temp += x\n",
    "    a.append(float(temp))\n",
    "    thisdict = {}\n",
    "    if types == \"accel\":\n",
    "        thisdict = {\"x\": a[0], \"y\": a[1], \"z\": a[2]}\n",
    "    elif types == \"gyro\":\n",
    "        thisdict = {\"x\": a[0], \"y\": a[1], \"z\": a[2]}\n",
    "    elif types == \"mag\":\n",
    "        thisdict = {\"x\": a[0], \"y\": a[1], \"z\": a[2]}\n",
    "    elif types == \"oriet\":\n",
    "        thisdict = {\"azmuth\": a[0], \"pitch\": a[1], \"roll\": a[2]}\n",
    "\n",
    "    return thisdict\n",
    "\n",
    "\n",
    "@sockets.route('/accelerometer')\n",
    "def echo_socket(ws):\n",
    "    f = open(\"accelerometer.txt\", \"a\")\n",
    "    while True:\n",
    "        message = ws.receive()\n",
    "        a = converter(\"accel\", message)\n",
    "        accelX.append(a['x'])\n",
    "        accelY.append(a['y'])\n",
    "        accelZ.append(a['z'])\n",
    "        ts=time.time()\n",
    "        times.append(ts)\n",
    "        \n",
    "        plt.clf()\n",
    "        plt.plot( times, accelX)\n",
    "        plt.show()\n",
    "        plt.pause(0.0001)\n",
    "\n",
    "        #ax1.plot( times, accelY)\n",
    "        #ax1.plot( times, accelZ)\n",
    "        print(\"hello\");\n",
    "        #ax.plot(a[\"x\"], a[\"y\"])\n",
    "        #fig.show()\n",
    "        #plot_cont(a[\"x\"], 60)\n",
    "        ws.send(message)\n",
    "        \n",
    "    \n",
    "\n",
    "\n",
    "@sockets.route('/gyroscope')\n",
    "def echo_socket(ws):\n",
    "    f = open(\"gyroscope.txt\", \"a\")\n",
    "    while True:\n",
    "        message = ws.receive()\n",
    "        print(message)\n",
    "        ws.send(message)\n",
    "        print(message, file=f)\n",
    "    f.close()\n",
    "\n",
    "\n",
    "@sockets.route('/magnetometer')\n",
    "def echo_socket(ws):\n",
    "    f = open(\"magnetometer.txt\", \"a\")\n",
    "    while True:\n",
    "        message = ws.receive()\n",
    "        print(message)\n",
    "        ws.send(message)\n",
    "        print(message, file=f)\n",
    "    f.close()\n",
    "\n",
    "\n",
    "@sockets.route('/orientation')\n",
    "def echo_socket(ws):\n",
    "    f = open(\"orientation.txt\", \"a\")\n",
    "    while True:\n",
    "        message = ws.receive()\n",
    "        print(message)\n",
    "        ws.send(message)\n",
    "        print(message, file=f)\n",
    "    f.close()\n",
    "\n",
    "\n",
    "@sockets.route('/stepcounter')\n",
    "def echo_socket(ws):\n",
    "    f = open(\"stepcounter.txt\", \"a\")\n",
    "    while True:\n",
    "        message = ws.receive()\n",
    "        print(message)\n",
    "        ws.send(message)\n",
    "        print(message, file=f)\n",
    "    f.close()\n",
    "\n",
    "\n",
    "@sockets.route('/thermometer')\n",
    "def echo_socket(ws):\n",
    "    f = open(\"thermometer.txt\", \"a\")\n",
    "    while True:\n",
    "        message = ws.receive()\n",
    "        print(message)\n",
    "        ws.send(message)\n",
    "        print(message, file=f)\n",
    "    f.close()\n",
    "\n",
    "\n",
    "@sockets.route('/lightsensor')\n",
    "def echo_socket(ws):\n",
    "    f = open(\"lightsensor.txt\", \"a\")\n",
    "    while True:\n",
    "        message = ws.receive()\n",
    "        print(message)\n",
    "        ws.send(message)\n",
    "        print(message, file=f)\n",
    "    f.close()\n",
    "\n",
    "\n",
    "@sockets.route('/proximity')\n",
    "def echo_socket(ws):\n",
    "    f = open(\"proximity.txt\", \"a\")\n",
    "    while True:\n",
    "        message = ws.receive()\n",
    "        print(message)\n",
    "        ws.send(message)\n",
    "        print(message, file=f)\n",
    "    f.close()\n",
    "\n",
    "\n",
    "@sockets.route('/geolocation')\n",
    "def echo_socket(ws):\n",
    "    f = open(\"geolocation.txt\", \"a\")\n",
    "    while True:\n",
    "        message = ws.receive()\n",
    "        print(message)\n",
    "        ws.send(message)\n",
    "        print(message, file=f)\n",
    "    f.close()\n",
    "\n",
    "\n",
    "@app.route('/')\n",
    "def hello():\n",
    "    return 'Hello World!'\n",
    "\n",
    "\n",
    "if __name__ == \"__main__\":\n",
    "    from gevent import pywsgi\n",
    "    from geventwebsocket.handler import WebSocketHandler\n",
    "    server = pywsgi.WSGIServer(\n",
    "        ('0.0.0.0', 5000), app, handler_class=WebSocketHandler)\n",
    "    server.serve_forever()\n"
   ]
  },
  {
   "cell_type": "code",
   "execution_count": null,
   "metadata": {},
   "outputs": [],
   "source": []
  }
 ],
 "metadata": {
  "kernelspec": {
   "display_name": "Python 3",
   "language": "python",
   "name": "python3"
  },
  "language_info": {
   "codemirror_mode": {
    "name": "ipython",
    "version": 3
   },
   "file_extension": ".py",
   "mimetype": "text/x-python",
   "name": "python",
   "nbconvert_exporter": "python",
   "pygments_lexer": "ipython3",
   "version": "3.6.6"
  }
 },
 "nbformat": 4,
 "nbformat_minor": 2
}
