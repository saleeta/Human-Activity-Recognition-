{
 "cells": [
  {
   "cell_type": "code",
   "execution_count": 12,
   "metadata": {
    "scrolled": false
   },
   "outputs": [
    {
     "name": "stdout",
     "output_type": "stream",
     "text": [
      "What is your name? potter\n",
      "doing something in a loop ...\n",
      "doing something in a loop ...\n",
      "doing something in a loop ...\n",
      "doing something in a loop ...\n",
      "doing something in a loop ...\n",
      "doing something in a loop ...\n",
      "End of the program. I was killed gracefully :)\n"
     ]
    }
   ],
   "source": [
    "import requests\n",
    "import json\n",
    "import xlsxwriter\n",
    "import signal\n",
    "import time\n",
    "\n",
    "class GracefulKiller:\n",
    "  kill_now = False\n",
    "  def __init__(self):\n",
    "    signal.signal(signal.SIGINT, self.exit_gracefully)\n",
    "    signal.signal(signal.SIGTERM, self.exit_gracefully)\n",
    "\n",
    "  def exit_gracefully(self,signum, frame):\n",
    "    self.kill_now = True\n",
    "\n",
    "if __name__ == '__main__':\n",
    "  killer = GracefulKiller()\n",
    "device='samsung'\n",
    "req = requests.get('https://cloud.internalpositioning.com/ping')\n",
    "if req.text!='pong':\n",
    "    print(\"ERROR: Not online\")\n",
    "\n",
    "else:\n",
    "    count=0\n",
    "    name = input(\"What is your name? \")\n",
    "    workbook = xlsxwriter.Workbook('C:/Users/saleeta/Desktop/fyp/'+name+'.xlsx')\n",
    "    worksheet = workbook.add_worksheet()\n",
    "    while True:\n",
    "        time.sleep(1)\n",
    "        worksheet.write(count, 0, 'A'+str(count))\n",
    "        worksheet.write(count, 1,'Hello world' )\n",
    "        \n",
    "        print(\"doing something in a loop ...\")\n",
    "        count+=1\n",
    "        if killer.kill_now:\n",
    "            break\n",
    "    \n",
    "    workbook.close()\n",
    "    print(\"End of the program. I was killed gracefully :)\")\n",
    "\n",
    "\n",
    "    \n",
    "    "
   ]
  },
  {
   "cell_type": "code",
   "execution_count": 32,
   "metadata": {},
   "outputs": [
    {
     "name": "stdout",
     "output_type": "stream",
     "text": [
      "<Response [200]>\n",
      "True\n",
      "{\"analysis\":{\"is_unknown\":true,\"location_names\":{\"0\":\"g\",\"1\":\"cafe\",\"2\":\"corridoor\",\"3\":\"food\",\"4\":\"mcl3-2\",\"5\":\"outdoor\",\"6\":\"gym\",\"7\":\"bathroom\",\"8\":\"corridor-2\"},\"predictions\":[{\"locations\":[\"2\",\"6\",\"0\",\"1\",\"3\",\"4\",\"5\",\"7\",\"8\"],\"name\":\"Nearest Neighbors\",\"probabilities\":[0.67,0.33,0,0,0,0,0,0,0]},{\"locations\":[\"6\",\"5\",\"2\",\"0\",\"1\",\"4\",\"8\",\"3\",\"7\"],\"name\":\"Linear SVM\",\"probabilities\":[0.32,0.29,0.26,0.05,0.02,0.02,0.01,0.01,0]},{\"locations\":[\"2\",\"5\",\"1\",\"0\",\"4\",\"6\",\"8\",\"7\",\"3\"],\"name\":\"RBF SVM\",\"probabilities\":[0.22,0.22,0.14,0.12,0.1,0.09,0.09,0.02,0.01]},{\"locations\":[\"5\",\"6\",\"2\",\"0\",\"1\",\"3\",\"4\",\"7\",\"8\"],\"name\":\"Decision Tree\",\"probabilities\":[0.91,0.06,0.03,0,0,0,0,0,0]},{\"locations\":[\"5\",\"2\",\"1\",\"0\",\"6\",\"4\",\"8\",\"3\",\"7\"],\"name\":\"Random Forest\",\"probabilities\":[0.25,0.21,0.14,0.13,0.12,0.06,0.06,0.02,0.01]},{\"locations\":[\"8\",\"2\",\"5\",\"6\",\"1\",\"4\",\"0\",\"7\",\"3\"],\"name\":\"Neural Net\",\"probabilities\":[0.12,0.12,0.12,0.12,0.11,0.11,0.1,0.1,0.1]},{\"locations\":[\"2\",\"4\",\"8\",\"1\",\"5\",\"6\",\"7\",\"0\",\"3\"],\"name\":\"AdaBoost\",\"probabilities\":[0.18,0.17,0.17,0.17,0.15,0.15,0,0,0]},{\"locations\":[\"6\",\"1\",\"8\",\"2\",\"0\",\"4\",\"5\",\"3\",\"7\"],\"name\":\"Naive Bayes\",\"probabilities\":[1,0,0,0,0,0,0,0,0]},{\"locations\":[\"2\",\"5\",\"1\",\"6\",\"0\",\"3\",\"4\",\"7\",\"8\"],\"name\":\"QDA\",\"probabilities\":[1,0,0,0,0,0,0,0,0]},{\"locations\":[\"0\",\"1\",\"2\",\"8\",\"7\",\"5\",\"3\",\"6\",\"4\"],\"name\":\"Extended Naive Bayes1\",\"probabilities\":[0.11,0.11,0.11,0.11,0.11,0.11,0.11,0.11,0.11]}],\"guesses\":[{\"location\":\"?\",\"probability\":1}]},\"message\":\"got location\",\"sensors\":{\"t\":1548818462087,\"f\":\"iba\",\"d\":\"samsung\",\"s\":{\"bluetooth\":{},\"wifi\":{\"18:d6:c7:e1:be:a8\":-75,\"18:d6:c7:ec:1d:10\":-53,\"48:bf:74:02:b9:7c\":-84,\"90:2b:d2:f0:b6:86\":-81,\"a4:be:2b:2e:fc:80\":-62,\"a8:e7:05:ec:40:65\":-90,\"f8:d1:11:36:a2:a2\":-57}},\"gps\":{}},\"success\":true}\n"
     ]
    }
   ],
   "source": [
    "\n",
    "req = requests.get('https://cloud.internalpositioning.com/api/v1/location/iba/samsung')\n",
    "print(req)\n",
    "import json\n",
    "class Payload(object):\n",
    "     def __init__(self, j):\n",
    "            self.__dict__ = json.loads(j)\n",
    " \n",
    "\n",
    "p = Payload(req.text)\n",
    "print(p.analysis['is_unknown'])\n",
    "print(req.text)"
   ]
  },
  {
   "cell_type": "code",
   "execution_count": 8,
   "metadata": {},
   "outputs": [
    {
     "name": "stdout",
     "output_type": "stream",
     "text": [
      "doing something in a loop ...\n",
      "doing something in a loop ...\n",
      "doing something in a loop ...\n",
      "doing something in a loop ...\n",
      "doing something in a loop ...\n",
      "doing something in a loop ...\n",
      "doing something in a loop ...\n",
      "End of the program. I was killed gracefully :)\n"
     ]
    }
   ],
   "source": [
    "#do something till sigterm then end gracefully\n",
    "\n",
    "import signal\n",
    "import time\n",
    "\n",
    "class GracefulKiller:\n",
    "  kill_now = False\n",
    "  def __init__(self):\n",
    "    signal.signal(signal.SIGINT, self.exit_gracefully)\n",
    "    signal.signal(signal.SIGTERM, self.exit_gracefully)\n",
    "\n",
    "  def exit_gracefully(self,signum, frame):\n",
    "    self.kill_now = True\n",
    "\n",
    "if __name__ == '__main__':\n",
    "  killer = GracefulKiller()\n",
    "  while True:\n",
    "    time.sleep(1)\n",
    "    print(\"doing something in a loop ...\")\n",
    "    if killer.kill_now:\n",
    "      break\n",
    "\n",
    "  print(\"End of the program. I was killed gracefully :)\")"
   ]
  }
 ],
 "metadata": {
  "kernelspec": {
   "display_name": "Python 3",
   "language": "python",
   "name": "python3"
  },
  "language_info": {
   "codemirror_mode": {
    "name": "ipython",
    "version": 3
   },
   "file_extension": ".py",
   "mimetype": "text/x-python",
   "name": "python",
   "nbconvert_exporter": "python",
   "pygments_lexer": "ipython3",
   "version": "3.6.6"
  }
 },
 "nbformat": 4,
 "nbformat_minor": 2
}
